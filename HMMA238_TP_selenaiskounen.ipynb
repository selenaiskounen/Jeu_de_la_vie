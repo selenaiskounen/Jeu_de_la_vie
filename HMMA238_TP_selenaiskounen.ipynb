{
 "cells": [
  {
   "cell_type": "markdown",
   "metadata": {},
   "source": [
    "#Le jeu de la vie "
   ]
  },
  {
   "cell_type": "markdown",
   "metadata": {},
   "source": [
    "Importation des fonctions que l'on utlisiera:"
   ]
  },
  {
   "cell_type": "code",
   "execution_count": 1,
   "metadata": {},
   "outputs": [],
   "source": [
    "import matplotlib.pyplot as plt\n",
    "import numpy as np\n",
    "from matplotlib import animation\n",
    "from matplotlib.animation import FuncAnimation\n",
    "from IPython.display import Image\n",
    "from utils import calcul_nb_voisins\n",
    "from utils import iteration_jeu\n"
   ]
  },
  {
   "cell_type": "markdown",
   "metadata": {},
   "source": [
    "##Questions préliminaires:"
   ]
  },
  {
   "cell_type": "markdown",
   "metadata": {},
   "source": [
    "Création de la chaine de caractères filename:"
   ]
  },
  {
   "cell_type": "code",
   "execution_count": 2,
   "metadata": {},
   "outputs": [],
   "source": [
    "filename='hmma238_tp_selenaiskounen.ipynb'\n"
   ]
  },
  {
   "cell_type": "markdown",
   "metadata": {},
   "source": [
    "Création de la variable taille_str:"
   ]
  },
  {
   "cell_type": "code",
   "execution_count": 3,
   "metadata": {},
   "outputs": [
    {
     "name": "stdout",
     "output_type": "stream",
     "text": [
      "31\n"
     ]
    }
   ],
   "source": [
    "taille_str=len(filename)\n",
    "print(len(filename))"
   ]
  },
  {
   "cell_type": "markdown",
   "metadata": {},
   "source": [
    "Création de la variable ma_graine:"
   ]
  },
  {
   "cell_type": "code",
   "execution_count": 4,
   "metadata": {},
   "outputs": [
    {
     "name": "stdout",
     "output_type": "stream",
     "text": [
      "5\n"
     ]
    }
   ],
   "source": [
    "ma_graine=taille_str//6\n",
    "print(ma_graine)"
   ]
  },
  {
   "cell_type": "markdown",
   "metadata": {},
   "source": [
    "##Implémentation sans numpy:"
   ]
  },
  {
   "cell_type": "markdown",
   "metadata": {},
   "source": [
    "Définition de la fonction calcul_nb_voisins qui permet de calculer le nombre de cellule voisines de la cellule:"
   ]
  },
  {
   "cell_type": "code",
   "execution_count": 5,
   "metadata": {},
   "outputs": [],
   "source": [
    "def calcul_nb_voisins(Z):\n",
    "    forme = len(Z) , len(Z[0])\n",
    "    N= [[0,]*(forme[0]) for i in range(forme[1])]\n",
    "    for x in range(1,forme[0]-1):\n",
    "       for y in range(1,forme[1]-1):\n",
    "           N[x][y]=Z[x-1][y-1] + Z[x][y-1]+ Z[x+1][y-1] + Z[x-1][y] + 0  + Z[x+1][y] + Z[x-1][y+1] + Z[x][y+1] + Z[x+1][y+1]\n",
    "    return N"
   ]
  },
  {
   "cell_type": "markdown",
   "metadata": {},
   "source": [
    "Affichage de la liste Z, pour cela nous aurons besoin d'importer matplotlib.pyplot:"
   ]
  },
  {
   "cell_type": "code",
   "execution_count": 6,
   "metadata": {},
   "outputs": [
    {
     "data": {
      "text/plain": [
       "<matplotlib.image.AxesImage at 0x97e6aab048>"
      ]
     },
     "execution_count": 6,
     "metadata": {},
     "output_type": "execute_result"
    },
    {
     "data": {
      "image/png": "[encoded data removed]",
      "text/plain": [
       "<Figure size 432x288 with 1 Axes>"
      ]
     },
     "metadata": {
      "needs_background": "light"
     },
     "output_type": "display_data"
    }
   ],
   "source": [
    "import matplotlib.pyplot as plt\n",
    "from matplotlib import animation \n",
    "Z=[[0,0,0,0,0,0],\n",
    "   [0,0,0,1,0,0],\n",
    "   [0,1,0,1,0,0],\n",
    "   [0,0,1,1,0,0],\n",
    "   [0,0,0,0,0,0],\n",
    "   [0,0,0,0,0,0]]\n",
    "plt.imshow(Z)"
   ]
  },
  {
   "cell_type": "markdown",
   "metadata": {},
   "source": [
    "Application de la fonction calcul_nb_voisins à la liste Z:"
   ]
  },
  {
   "cell_type": "code",
   "execution_count": 7,
   "metadata": {},
   "outputs": [
    {
     "name": "stdout",
     "output_type": "stream",
     "text": [
      "[[0, 0, 0, 0, 0, 0], [0, 1, 3, 1, 2, 0], [0, 1, 5, 3, 3, 0], [0, 2, 3, 2, 2, 0], [0, 1, 2, 2, 1, 0], [0, 0, 0, 0, 0, 0]]\n"
     ]
    }
   ],
   "source": [
    "Z=[[0,0,0,0,0,0],\n",
    "   [0,0,0,1,0,0],\n",
    "   [0,1,0,1,0,0],\n",
    "   [0,0,1,1,0,0],\n",
    "   [0,0,0,0,0,0],\n",
    "   [0,0,0,0,0,0]]\n",
    "print(calcul_nb_voisins(Z))"
   ]
  },
  {
   "cell_type": "markdown",
   "metadata": {},
   "source": [
    "Definition de la fonction iteration_jeu qui permet de calculer le nombre de cellules voisines à la génération suivante:"
   ]
  },
  {
   "cell_type": "code",
   "execution_count": 8,
   "metadata": {},
   "outputs": [],
   "source": [
    "def iteration_jeu(Z):\n",
    "    forme=len(Z),len(Z[0])\n",
    "    N=calcul_nb_voisins(Z)\n",
    "    for x in range(1,forme[0]-1):\n",
    "        for y in range(1,forme[1]-1):\n",
    "            if Z[x][y]==1 and(N[x][y]<2 or N[x][y]>3):\n",
    "                Z[x][y]=0 #mort de la cellule à la génération suivante par isolement ou par etoufement\n",
    "            elif Z[x][y]==0 and N[x][y]==3:\n",
    "                Z[x][y]=1 #naissance de la cellule à la génération suivante\n",
    "    return Z"
   ]
  },
  {
   "cell_type": "markdown",
   "metadata": {},
   "source": [
    "Application de la fonction iteration_jeu à la liste Z:"
   ]
  },
  {
   "cell_type": "code",
   "execution_count": 9,
   "metadata": {},
   "outputs": [
    {
     "data": {
      "text/plain": [
       "[[0, 0, 0, 0, 0, 0],\n",
       " [0, 0, 1, 0, 0, 0],\n",
       " [0, 0, 0, 1, 1, 0],\n",
       " [0, 0, 1, 1, 0, 0],\n",
       " [0, 0, 0, 0, 0, 0],\n",
       " [0, 0, 0, 0, 0, 0]]"
      ]
     },
     "execution_count": 9,
     "metadata": {},
     "output_type": "execute_result"
    }
   ],
   "source": [
    "iteration_jeu(Z)\n"
   ]
  },
  {
   "cell_type": "markdown",
   "metadata": {},
   "source": [
    "Definition d'une fonction qui permettera d'afficher les étapes pour 10 itérations.Pour la définition de cette focntion on utilisera une boucle for ainsi que la fonction imshow du package matplotlib afin d'afficher les sorties:"
   ]
  },
  {
   "cell_type": "code",
   "execution_count": 10,
   "metadata": {},
   "outputs": [
    {
     "data": {
      "image/png": "[encoded data removed]",
      "text/plain": [
       "<Figure size 432x288 with 10 Axes>"
      ]
     },
     "metadata": {
      "needs_background": "light"
     },
     "output_type": "display_data"
    }
   ],
   "source": [
    "Z = [[0,0,0,0,0,0],\n",
    "    [0,0,0,1,0,0],\n",
    "    [0,1,0,1,0,0],\n",
    "    [0,0,1,1,0,0],\n",
    "    [0,0,0,0,0,0],\n",
    "    [0,0,0,0,0,0]]\n",
    "import  matplotlib.pyplot as plt\n",
    "import numpy as np\n",
    "\n",
    "for i in range (10):\n",
    "        plt.subplot(2,5,i+1)\n",
    "        Z=np.array(Z)\n",
    "        plt.imshow(Z)\n",
    "        Z=iteration_jeu(Z)\n",
    "        plt.title(\"Génération\" + str(i))\n"
   ]
  },
  {
   "cell_type": "markdown",
   "metadata": {},
   "source": [
    "Les sorties obtenues indiquent bien que de l'itération 0 à 4, le nombre de cellules voisines à la génération suivante est différent.Cependant, la figure obtenue à la génération 4 est identique à celle de la génération 0 décallée d'une case vers le bas et une case vers la droite. Tandis qu'à partir de l'itération 7 ce nombre est constant en effet le schéma est stable à partir de cette itération. On peut donc conclure qu'à partir de la génération 7 il n'y a plus de naissance de nouvelle cellule ni de mort."
   ]
  },
  {
   "cell_type": "markdown",
   "metadata": {},
   "source": [
    "##Implémentation avec numpy:"
   ]
  },
  {
   "cell_type": "code",
   "execution_count": 11,
   "metadata": {},
   "outputs": [
    {
     "name": "stdout",
     "output_type": "stream",
     "text": [
      "[0 1 0 0 1 1]\n",
      "[0. 0. 1. 1. 1. 0.]\n"
     ]
    }
   ],
   "source": [
    "import numpy as np\n",
    "vect = np.array([0,1,0,0,1,1])\n",
    "nb_vect = np.zeros(vect.shape)\n",
    "nb_vect[1:-1] += (vect[:-2] + vect[2:])\n",
    "\n",
    "print(vect)\n",
    "print(nb_vect)"
   ]
  },
  {
   "cell_type": "markdown",
   "metadata": {},
   "source": [
    "Defini comme suit, nb_vect signifie que l'on ne s'interesse pas au bord du vecteur mais uniquement à ce qui ce passe entre le deuxième et l'avant dernier élément de ce vecteur."
   ]
  },
  {
   "cell_type": "markdown",
   "metadata": {},
   "source": [
    "Definition de la fonction calcul_nb_voisins_np:"
   ]
  },
  {
   "cell_type": "code",
   "execution_count": 12,
   "metadata": {},
   "outputs": [],
   "source": [
    "def calcul_nb_voisins_np(Z):\n",
    "    Z=np.array(Z)\n",
    "    nb_voisins_np=np.zeros(Z.shape)\n",
    "    nb_voisins_np[1:-1,1:-1] +=Z[1:-1,:-2] + Z[:-2,:-2]+ Z[:-2,2:] + Z[2:,2:] + Z[2:,:-2] + Z[1:-1,2:] + Z[:-2,1:-1] + Z[2:,1:-1]\n",
    "    return(nb_voisins_np)"
   ]
  },
  {
   "cell_type": "markdown",
   "metadata": {},
   "source": [
    "Dans ce cas la fonction calcul_nb_voisins_np permet de calculer uniquement le nombre de voisins de chacune des cellules de la matrice de départs sans prendre celles qui sont sur les bords de la matrice. On obtiendra donc en sortie, pour une matrice Z, des zeros sur les bords et des nombres differents de 0 entre la deuxieme et l'avant derniere colone et la deuxieme et l'avant derniere ligne."
   ]
  },
  {
   "cell_type": "markdown",
   "metadata": {},
   "source": [
    "Application de la fonction calcul_nb_voisins_np à la matrice Z:"
   ]
  },
  {
   "cell_type": "code",
   "execution_count": 13,
   "metadata": {},
   "outputs": [
    {
     "name": "stdout",
     "output_type": "stream",
     "text": [
      "[[0. 0. 0. 0. 0. 0.]\n",
      " [0. 1. 3. 1. 2. 0.]\n",
      " [0. 1. 5. 3. 3. 0.]\n",
      " [0. 2. 3. 2. 2. 0.]\n",
      " [0. 1. 2. 2. 1. 0.]\n",
      " [0. 0. 0. 0. 0. 0.]]\n"
     ]
    }
   ],
   "source": [
    "Z = [[0,0,0,0,0,0],\n",
    "    [0,0,0,1,0,0],\n",
    "    [0,1,0,1,0,0],\n",
    "    [0,0,1,1,0,0],\n",
    "    [0,0,0,0,0,0],\n",
    "    [0,0,0,0,0,0]]\n",
    "\n",
    "print(calcul_nb_voisins_np(Z))"
   ]
  },
  {
   "cell_type": "markdown",
   "metadata": {},
   "source": [
    "On remarque que le résultat obtenu est identique à celui obtenu sans numpy."
   ]
  },
  {
   "cell_type": "markdown",
   "metadata": {},
   "source": [
    "Définition de la fonction  iteration_jeu_np:"
   ]
  },
  {
   "cell_type": "code",
   "execution_count": 14,
   "metadata": {},
   "outputs": [],
   "source": [
    "def iteration_jeu_np(Z):\n",
    "    Z=np.array(Z)# on reprend le même code que précédement avec comme Z une matrice\n",
    "    forme=Z.shape \n",
    "    N=calcul_nb_voisins_np(Z) # le nombre de cellule voisines défini précédement pour Z array\n",
    "    for x in range(1,forme[0]-1):\n",
    "        for y in range(1,forme[1]-1):\n",
    "            if Z[x][y]==1 and(N[x][y]<2 or N[x][y]>3):\n",
    "                Z[x][y]=0 \n",
    "            elif Z[x][y]==0 and N[x][y]==3:\n",
    "                Z[x][y]=1 \n",
    "    return Z"
   ]
  },
  {
   "cell_type": "markdown",
   "metadata": {},
   "source": [
    "Application de la fonction iteration_jeu_np à Z:"
   ]
  },
  {
   "cell_type": "code",
   "execution_count": 15,
   "metadata": {},
   "outputs": [
    {
     "name": "stdout",
     "output_type": "stream",
     "text": [
      "[[0 0 0 0 0 0]\n",
      " [0 0 1 0 0 0]\n",
      " [0 0 0 1 1 0]\n",
      " [0 0 1 1 0 0]\n",
      " [0 0 0 0 0 0]\n",
      " [0 0 0 0 0 0]]\n"
     ]
    }
   ],
   "source": [
    "print(iteration_jeu_np(Z))"
   ]
  },
  {
   "cell_type": "markdown",
   "metadata": {},
   "source": [
    "On obtient bien le même résultat que lors de l'implémentation sans numpy."
   ]
  },
  {
   "cell_type": "markdown",
   "metadata": {},
   "source": [
    "Définition de la fonction jeu_np:"
   ]
  },
  {
   "cell_type": "code",
   "execution_count": 16,
   "metadata": {},
   "outputs": [],
   "source": [
    "def jeu_np(Z_in,nb_iter):\n",
    "    for i in range (10):\n",
    "        Z_in=iteration_jeu_np(Z_in)\n",
    "    return(Z_in)\n",
    "        "
   ]
  },
  {
   "cell_type": "markdown",
   "metadata": {},
   "source": [
    "Application de la fonction jeu_np à Z_in=Z et nb_iter=7:"
   ]
  },
  {
   "cell_type": "code",
   "execution_count": 17,
   "metadata": {},
   "outputs": [
    {
     "data": {
      "text/plain": [
       "<matplotlib.image.AxesImage at 0x97e9cfde48>"
      ]
     },
     "execution_count": 17,
     "metadata": {},
     "output_type": "execute_result"
    },
    {
     "data": {
      "image/png": "[encoded data removed]",
      "text/plain": [
       "<Figure size 432x288 with 1 Axes>"
      ]
     },
     "metadata": {
      "needs_background": "light"
     },
     "output_type": "display_data"
    }
   ],
   "source": [
    "Z=[[0,0,0,0,0,0],\n",
    "   [0,0,0,1,0,0],\n",
    "   [0,1,0,1,0,0],\n",
    "   [0,0,1,1,0,0],\n",
    "   [0,0,0,0,0,0],\n",
    "   [0,0,0,0,0,0]]\n",
    "plt.imshow(jeu_np(Z,7))"
   ]
  },
  {
   "cell_type": "markdown",
   "metadata": {},
   "source": [
    "On retrouve bien l'itération 7 obtenue lors de l'implémentation sans numpy."
   ]
  },
  {
   "cell_type": "markdown",
   "metadata": {},
   "source": [
    "Affichage du film qui représente les itérations du jeu de la vie pour la matrice Z_huge:"
   ]
  },
  {
   "cell_type": "code",
   "execution_count": 18,
   "metadata": {},
   "outputs": [],
   "source": [
    "Z_huge = np.zeros((100, 100))\n",
    "Z_np = np.array(\n",
    "[[0, 0, 0, 0, 0, 0],\n",
    "[0, 0, 0, 1, 0, 0],\n",
    "[0, 1, 0, 1, 0, 0],\n",
    "[0, 0, 1, 1, 0, 0],\n",
    "[0, 0, 0, 0, 0, 0],\n",
    "[0, 0, 0, 0, 0, 0]])\n",
    "Z_huge[10:16, 10:16] = Z_np"
   ]
  },
  {
   "cell_type": "markdown",
   "metadata": {},
   "source": [
    "Définition d'une fonction animate qui permettera l'affichage du film représentant les itérations du jeu:"
   ]
  },
  {
   "cell_type": "markdown",
   "metadata": {},
   "source": [
    "ANIMATION,!!!!!!"
   ]
  },
  {
   "cell_type": "markdown",
   "metadata": {},
   "source": [
    "Initialisation avec une matrice aléatoire de taille 100 * 100 :"
   ]
  },
  {
   "cell_type": "code",
   "execution_count": 18,
   "metadata": {},
   "outputs": [
    {
     "name": "stdout",
     "output_type": "stream",
     "text": [
      "0.6\n"
     ]
    }
   ],
   "source": [
    "import numpy.random as rd\n",
    "prop_active=(1+ma_graine)*10/100\n",
    "np=prop_active\n",
    "Z_b=rd.binomial(1,0.6,(100,100)) #ici n=1 et donc p=0.6 (car prop_active=0.6)\n",
    "print(prop_active)\n",
    "Z_f=Z_b[1:-1, 1:-1]\n",
    "\n"
   ]
  },
  {
   "cell_type": "markdown",
   "metadata": {},
   "source": [
    "ANIMATION!!!!!"
   ]
  },
  {
   "cell_type": "markdown",
   "metadata": {},
   "source": [
    "Affichage de 10 itérations de trois matrices simples représentant des jeux stables:"
   ]
  },
  {
   "cell_type": "markdown",
   "metadata": {},
   "source": [
    "Première matrice (Le bloc):"
   ]
  },
  {
   "cell_type": "code",
   "execution_count": 26,
   "metadata": {},
   "outputs": [
    {
     "data": {
      "image/png": "[encoded data removed]",
      "text/plain": [
       "<Figure size 432x288 with 10 Axes>"
      ]
     },
     "metadata": {
      "needs_background": "light"
     },
     "output_type": "display_data"
    }
   ],
   "source": [
    "import matplotlib.pyplot as plt\n",
    "import numpy as np\n",
    "M1 = np.zeros((50, 50))\n",
    "M1[25,25] = M1[25, 24] = M1[24, 25] = M1[24,24]  = 1\n",
    "\n",
    "for i in range(10):\n",
    "    plt.subplot(2,5,i+1)\n",
    "    plt.imshow(iteration_jeu_np(M1))\n",
    "    plt.title(\"Generation\" + str(i))"
   ]
  },
  {
   "cell_type": "markdown",
   "metadata": {},
   "source": [
    "Deuxième matrice(Le pain):"
   ]
  },
  {
   "cell_type": "code",
   "execution_count": 27,
   "metadata": {},
   "outputs": [
    {
     "data": {
      "image/png": "[encoded data removed]",
      "text/plain": [
       "<Figure size 432x288 with 10 Axes>"
      ]
     },
     "metadata": {
      "needs_background": "light"
     },
     "output_type": "display_data"
    }
   ],
   "source": [
    "import matplotlib.pyplot as plt\n",
    "import numpy as np\n",
    "M2 = np.zeros((50,50))\n",
    "M2[26,24] = M2[25,25] = M2[24,26] = M2[25,27] = M2[26,27] = M2[27, 26] = M2[27,25] = 1\n",
    "\n",
    "for i in range(10):\n",
    "    plt.subplot(2,5,i+1)\n",
    "    plt.imshow(iteration_jeu_np(M2))\n",
    "    plt.title(\"Generation\" + str(i))"
   ]
  },
  {
   "cell_type": "markdown",
   "metadata": {},
   "source": [
    "Troisième matrice (Le bateau):"
   ]
  },
  {
   "cell_type": "code",
   "execution_count": 28,
   "metadata": {},
   "outputs": [
    {
     "data": {
      "image/png": "[encoded data removed]",
      "text/plain": [
       "<Figure size 432x288 with 10 Axes>"
      ]
     },
     "metadata": {
      "needs_background": "light"
     },
     "output_type": "display_data"
    }
   ],
   "source": [
    "import matplotlib.pyplot as plt\n",
    "import numpy as np\n",
    "M3 = np.zeros((50,50))\n",
    "M3[25,24] = M3[26,24] = M3[26,25] = M3[25,26] = M3[24,25] = 1\n",
    "\n",
    "for i in range (10):\n",
    "    plt.subplot(2,5,i+1)\n",
    "    plt.imshow(iteration_jeu_np(M3))\n",
    "    plt.title(\"Generation\"+str(i))"
   ]
  },
  {
   "cell_type": "markdown",
   "metadata": {},
   "source": [
    "Affichage d'une matrice représentant un jeu oscillant de période 2(Le crapeau):"
   ]
  },
  {
   "cell_type": "code",
   "execution_count": 29,
   "metadata": {},
   "outputs": [
    {
     "data": {
      "image/png": "[encoded data removed]",
      "text/plain": [
       "<Figure size 432x288 with 10 Axes>"
      ]
     },
     "metadata": {
      "needs_background": "light"
     },
     "output_type": "display_data"
    }
   ],
   "source": [
    "import matplotlib.pyplot as plt\n",
    "import numpy as np\n",
    "M = np.zeros((50,50))\n",
    "M[24,25] = M[25,25] = M[25,26] = M[25,24]=M[26,24]=M[27,24]=1\n",
    "\n",
    "for i in range(10):\n",
    "    plt.subplot(2,5,i+1)\n",
    "    plt.imshow(iteration_jeu_np(M))\n",
    "    plt.title(\"Generation\" + str(i))"
   ]
  },
  {
   "cell_type": "markdown",
   "metadata": {},
   "source": [
    "Création du jeu sous forme de la classe JeuDeLaVie. Pour cela, on utilisera comme moyen de stockage un tenseur tridimensionnel."
   ]
  },
  {
   "cell_type": "code",
   "execution_count": 42,
   "metadata": {},
   "outputs": [],
   "source": [
    "import matplotlib.pyplot as plt\n",
    "import numpy as np\n",
    "class JeuDeLaVie:\n",
    "\n",
    "    def __init__(self, init_state, _time_T):\n",
    "        self.init_state = init_state\n",
    "        self._time_T = _time_T\n",
    "        self._dimension = (n_1, n_2) = init_state.shape\n",
    "        self._historic_state = np.zeros((n_1, n_2, _time_T+1))\n",
    "        self._historic_state[:, :, 0] = self.init_state\n",
    "        self.average_life = np.zeros((n_1, n_2))\n",
    "\n",
    "    def play(self):\n",
    "        t = 1\n",
    "        while (t <= self._time_T):\n",
    "            self._historic_state[:, :, t] = iteration_jeu_np(\n",
    "                self._historic_state[:, :, t-1])\n",
    "            self.average_life = np.mean(self._historic_state, axis=(2))\n",
    "            t = t + 1\n",
    "\n",
    "    def plot(self):\n",
    "        plt.imshow(self.average_life)\n",
    "        \n",
    "\n"
   ]
  },
  {
   "cell_type": "markdown",
   "metadata": {},
   "source": [
    "Application pour la matrice Z et 20 répétition:"
   ]
  },
  {
   "cell_type": "code",
   "execution_count": 43,
   "metadata": {},
   "outputs": [
    {
     "data": {
      "image/png": "[encoded data removed]",
      "text/plain": [
       "<Figure size 432x288 with 1 Axes>"
      ]
     },
     "metadata": {
      "needs_background": "light"
     },
     "output_type": "display_data"
    }
   ],
   "source": [
    "from matplotlib import animation\n",
    "from IPython.display import Image\n",
    "jeu=JeuDeLaVie(np.array(Z),10)\n",
    "jeu.play()\n",
    "jeu.plot()"
   ]
  }
 ],
 "metadata": {
  "kernelspec": {
   "display_name": "Python 3",
   "language": "python",
   "name": "python3"
  },
  "language_info": {
   "codemirror_mode": {
    "name": "ipython",
    "version": 3
   },
   "file_extension": ".py",
   "mimetype": "text/x-python",
   "name": "python",
   "nbconvert_exporter": "python",
   "pygments_lexer": "ipython3",
   "version": "3.7.4"
  }
 },
 "nbformat": 4,
 "nbformat_minor": 2
}
