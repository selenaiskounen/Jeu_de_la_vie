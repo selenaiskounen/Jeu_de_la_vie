{
 "cells": [
  {
   "cell_type": "markdown",
   "metadata": {},
   "source": [
    "#Le jeu de la vie "
   ]
  },
  {
   "cell_type": "markdown",
   "metadata": {},
   "source": [
    "##Questions préliminaires:"
   ]
  },
  {
   "cell_type": "markdown",
   "metadata": {},
   "source": [
    "Création de la chaine de caractères filename:"
   ]
  },
  {
   "cell_type": "code",
   "execution_count": 1,
   "metadata": {},
   "outputs": [],
   "source": [
    "filename='hmma238_tp_selenaiskounen.ipynb'\n"
   ]
  },
  {
   "cell_type": "markdown",
   "metadata": {},
   "source": [
    "Création de la variable taille_str:"
   ]
  },
  {
   "cell_type": "code",
   "execution_count": 2,
   "metadata": {},
   "outputs": [
    {
     "name": "stdout",
     "output_type": "stream",
     "text": [
      "31\n"
     ]
    }
   ],
   "source": [
    "taille_str=len(filename)\n",
    "print(len(filename))"
   ]
  },
  {
   "cell_type": "markdown",
   "metadata": {},
   "source": [
    "Création de la variable ma_graine:"
   ]
  },
  {
   "cell_type": "code",
   "execution_count": 3,
   "metadata": {},
   "outputs": [
    {
     "name": "stdout",
     "output_type": "stream",
     "text": [
      "5\n"
     ]
    }
   ],
   "source": [
    "ma_graine=taille_str//6\n",
    "print(ma_graine)"
   ]
  },
  {
   "cell_type": "markdown",
   "metadata": {},
   "source": [
    "##Implémentation sans numpy:"
   ]
  },
  {
   "cell_type": "markdown",
   "metadata": {},
   "source": [
    "Définition de la fonction calcul_nb_voisins qui permet de calculer le nombre de cellule voisines de la cellule:"
   ]
  },
  {
   "cell_type": "code",
   "execution_count": 4,
   "metadata": {},
   "outputs": [],
   "source": [
    "def calcul_nb_voisins(Z):\n",
    "    forme = len(Z) , len(Z[0])\n",
    "    N= [[0,]*(forme[0]) for i in range(forme[1])]\n",
    "    for x in range(1,forme[0]-1):\n",
    "       for y in range(1,forme[1]-1):\n",
    "           N[x][y]=Z[x-1][y-1] + Z[x][y-1]+ Z[x+1][y-1] + Z[x-1][y] + 0  + Z[x+1][y] + Z[x-1][y+1] + Z[x][y+1] + Z[x+1][y+1]\n",
    "    return N"
   ]
  },
  {
   "cell_type": "markdown",
   "metadata": {},
   "source": [
    "Affichage de la liste Z, pour cela nous aurons besoin d'importer matplotlib.pyplot:"
   ]
  },
  {
   "cell_type": "code",
   "execution_count": 5,
   "metadata": {},
   "outputs": [
    {
     "data": {
      "text/plain": [
       "<matplotlib.image.AxesImage at 0x82d622dec8>"
      ]
     },
     "execution_count": 5,
     "metadata": {},
     "output_type": "execute_result"
    }
   ],
   "source": [
    "import matplotlib.pyplot as plt\n",
    "from matplotlib import animation \n",
    "Z=[[0,0,0,0,0,0],\n",
    "   [0,0,0,1,0,0],\n",
    "   [0,1,0,1,0,0],\n",
    "   [0,0,1,1,0,0],\n",
    "   [0,0,0,0,0,0],\n",
    "   [0,0,0,0,0,0]]\n",
    "plt.imshow(Z)"
   ]
  },
  {
   "cell_type": "markdown",
   "metadata": {},
   "source": [
    "Application de la fonction calcul_nb_voisins à la liste Z:"
   ]
  },
  {
   "cell_type": "code",
   "execution_count": 6,
   "metadata": {},
   "outputs": [
    {
     "name": "stdout",
     "output_type": "stream",
     "text": [
      "[[0, 0, 0, 0, 0, 0], [0, 1, 3, 1, 2, 0], [0, 1, 5, 3, 3, 0], [0, 2, 3, 2, 2, 0], [0, 1, 2, 2, 1, 0], [0, 0, 0, 0, 0, 0]]\n"
     ]
    }
   ],
   "source": [
    "Z=[[0,0,0,0,0,0],\n",
    "   [0,0,0,1,0,0],\n",
    "   [0,1,0,1,0,0],\n",
    "   [0,0,1,1,0,0],\n",
    "   [0,0,0,0,0,0],\n",
    "   [0,0,0,0,0,0]]\n",
    "print(calcul_nb_voisins(Z))"
   ]
  },
  {
   "cell_type": "markdown",
   "metadata": {},
   "source": [
    "Definition de la fonction iteration_jeu qui permet de calculer le nombre de cellules voisines à la génération suivante:"
   ]
  },
  {
   "cell_type": "code",
   "execution_count": 7,
   "metadata": {},
   "outputs": [],
   "source": [
    "def iteration_jeu(Z):\n",
    "    forme=len(Z),len(Z[0])\n",
    "    N=calcul_nb_voisins(Z)\n",
    "    for x in range(1,forme[0]-1):\n",
    "        for y in range(1,forme[1]-1):\n",
    "            if Z[x][y]==1 and(N[x][y]<2 or N[x][y]>3):\n",
    "                Z[x][y]=0 #mort de la cellule à la génération suivante par isolement ou par etoufement\n",
    "            elif Z[x][y]==0 and N[x][y]==3:\n",
    "                Z[x][y]=1 #naissance de la cellule à la génération suivante\n",
    "    return Z"
   ]
  },
  {
   "cell_type": "markdown",
   "metadata": {},
   "source": [
    "Application de la fonction iteration_jeu à la liste Z:"
   ]
  },
  {
   "cell_type": "code",
   "execution_count": 8,
   "metadata": {},
   "outputs": [
    {
     "data": {
      "text/plain": [
       "[[0, 0, 0, 0, 0, 0],\n",
       " [0, 0, 1, 0, 0, 0],\n",
       " [0, 0, 0, 1, 1, 0],\n",
       " [0, 0, 1, 1, 0, 0],\n",
       " [0, 0, 0, 0, 0, 0],\n",
       " [0, 0, 0, 0, 0, 0]]"
      ]
     },
     "execution_count": 8,
     "metadata": {},
     "output_type": "execute_result"
    }
   ],
   "source": [
    "iteration_jeu(Z)\n"
   ]
  },
  {
   "cell_type": "markdown",
   "metadata": {},
   "source": [
    "Definition d'une fonction qui permettera d'afficher les étapes pour 10 itérations.Pour la définition de cette focntion on utilisera une boucle for ainsi que la fonction imshow du package matplotlib afin d'afficher les sorties:"
   ]
  },
  {
   "cell_type": "code",
   "execution_count": 9,
   "metadata": {},
   "outputs": [
    {
     "data": {
      "image/png": "[encoded data removed]",
      "text/plain": [
       "<Figure size 432x288 with 10 Axes>"
      ]
     },
     "metadata": {
      "needs_background": "light"
     },
     "output_type": "display_data"
    }
   ],
   "source": [
    "Z = [[0,0,0,0,0,0],\n",
    "    [0,0,0,1,0,0],\n",
    "    [0,1,0,1,0,0],\n",
    "    [0,0,1,1,0,0],\n",
    "    [0,0,0,0,0,0],\n",
    "    [0,0,0,0,0,0]]\n",
    "import  matplotlib.pyplot as plt\n",
    "import numpy as np\n",
    "\n",
    "for i in range (10):\n",
    "        plt.subplot(2,5,i+1)\n",
    "        Z=np.array(Z)\n",
    "        plt.imshow(Z)\n",
    "        Z=iteration_jeu(Z)\n",
    "        plt.title(\"Génération\" + str(i))\n"
   ]
  },
  {
   "cell_type": "markdown",
   "metadata": {},
   "source": [
    "Les sorties obtenues indiquent bien que de l'itération 0 à 4, le nombre de cellules voisines à la génération suivante est différent.Cependant, la figure obtenue à la génération 4 est identique à celle de la génération 0 décallée d'une case vers le bas et une case vers la droite. Tandis qu'à partir de l'itération 7 ce nombre est constant en effet le schéma est stable à partir de cette itération. On peut donc conclure qu'à partir de la génération 7 il n'y a plus de naissance de nouvelle cellule ni de mort."
   ]
  },
  {
   "cell_type": "markdown",
   "metadata": {},
   "source": [
    "##Implémentation avec numpy:"
   ]
  },
  {
   "cell_type": "code",
   "execution_count": 10,
   "metadata": {},
   "outputs": [
    {
     "name": "stdout",
     "output_type": "stream",
     "text": [
      "[0 1 0 0 1 1]\n",
      "[0. 0. 1. 1. 1. 0.]\n"
     ]
    }
   ],
   "source": [
    "import numpy as np\n",
    "vect = np.array([0,1,0,0,1,1])\n",
    "nb_vect = np.zeros(vect.shape)\n",
    "nb_vect[1:-1] += (vect[:-2] + vect[2:])\n",
    "\n",
    "print(vect)\n",
    "print(nb_vect)"
   ]
  },
  {
   "cell_type": "markdown",
   "metadata": {},
   "source": [
    "Definition de la fonction calcul_nb_voisins_np:"
   ]
  },
  {
   "cell_type": "code",
   "execution_count": 11,
   "metadata": {},
   "outputs": [],
   "source": [
    "def calcul_nb_voisins_np(Z):\n",
    "    Z=np.array(Z)\n",
    "    nb_voisins_np=np.zeros(Z.shape)\n",
    "    nb_voisins_np[1:-1,1:-1] +=Z[1:-1,:-2] + Z[:-2,:-2]+ Z[:-2,2:] + Z[2:,2:] + Z[2:,:-2] + Z[1:-1,2:] + Z[:-2,1:-1] + Z[2:,1:-1]\n",
    "    return(nb_voisins_np)"
   ]
  },
  {
   "cell_type": "markdown",
   "metadata": {},
   "source": [
    "Application de la fonction calcul_nb_voisins_np à la matrice Z:"
   ]
  },
  {
   "cell_type": "code",
   "execution_count": 12,
   "metadata": {},
   "outputs": [
    {
     "name": "stdout",
     "output_type": "stream",
     "text": [
      "[[0. 0. 0. 0. 0. 0.]\n",
      " [0. 1. 3. 1. 2. 0.]\n",
      " [0. 1. 5. 3. 3. 0.]\n",
      " [0. 2. 3. 2. 2. 0.]\n",
      " [0. 1. 2. 2. 1. 0.]\n",
      " [0. 0. 0. 0. 0. 0.]]\n"
     ]
    }
   ],
   "source": [
    "Z = [[0,0,0,0,0,0],\n",
    "    [0,0,0,1,0,0],\n",
    "    [0,1,0,1,0,0],\n",
    "    [0,0,1,1,0,0],\n",
    "    [0,0,0,0,0,0],\n",
    "    [0,0,0,0,0,0]]\n",
    "\n",
    "print(calcul_nb_voisins_np(Z))"
   ]
  },
  {
   "cell_type": "markdown",
   "metadata": {},
   "source": [
    "On remarque que le résultat obtenu est identique à celui obtenu sans numpy."
   ]
  },
  {
   "cell_type": "markdown",
   "metadata": {},
   "source": [
    "Définition de la fonction  iteration_jeu_np:"
   ]
  },
  {
   "cell_type": "code",
   "execution_count": 13,
   "metadata": {},
   "outputs": [],
   "source": [
    "def iteration_jeu_np(Z):\n",
    "    forme=len(Z),len(Z[0])\n",
    "    Z=np.array(Z) # on reprend le même code que précédement avec comme Z une matrice \n",
    "    N=calcul_nb_voisins_np(Z) # le nombre de cellule voisines défini précédement pour Z array\n",
    "    for x in range(1,forme[0]-1):\n",
    "        for y in range(1,forme[1]-1):\n",
    "            if Z[x][y]==1 and(N[x][y]<2 or N[x][y]>3):\n",
    "                Z[x][y]=0 \n",
    "            elif Z[x][y]==0 and N[x][y]==3:\n",
    "                Z[x][y]=1 \n",
    "    return Z"
   ]
  },
  {
   "cell_type": "markdown",
   "metadata": {},
   "source": [
    "Application de la fonction iteration_jeu_np à Z:"
   ]
  },
  {
   "cell_type": "code",
   "execution_count": 14,
   "metadata": {},
   "outputs": [
    {
     "name": "stdout",
     "output_type": "stream",
     "text": [
      "[[0 0 0 0 0 0]\n",
      " [0 0 1 0 0 0]\n",
      " [0 0 0 1 1 0]\n",
      " [0 0 1 1 0 0]\n",
      " [0 0 0 0 0 0]\n",
      " [0 0 0 0 0 0]]\n"
     ]
    }
   ],
   "source": [
    "print(iteration_jeu_np(Z))"
   ]
  },
  {
   "cell_type": "markdown",
   "metadata": {},
   "source": [
    "On obtient bien le même résultat que lors de l'implémentation sans numpy."
   ]
  },
  {
   "cell_type": "markdown",
   "metadata": {},
   "source": [
    "Définition de la fonction jeu_np:"
   ]
  },
  {
   "cell_type": "code",
   "execution_count": 15,
   "metadata": {},
   "outputs": [],
   "source": [
    "def jeu_np(Z_in,nb_iter):\n",
    "    Z_in=np.array(Z_in)\n",
    "    for i in range(nb_iter):\n",
    "        Z_in=iteration_jeu_np(Z_in)\n",
    "        return(Z_in)\n",
    "        "
   ]
  },
  {
   "cell_type": "markdown",
   "metadata": {},
   "source": [
    "Application de la fonction jeu_np à Z_in=Z et nb_iter=10:"
   ]
  },
  {
   "cell_type": "code",
   "execution_count": 16,
   "metadata": {},
   "outputs": [
    {
     "name": "stdout",
     "output_type": "stream",
     "text": [
      "[[0 0 0 0 0 0]\n",
      " [0 0 1 0 0 0]\n",
      " [0 0 0 1 1 0]\n",
      " [0 0 1 1 0 0]\n",
      " [0 0 0 0 0 0]\n",
      " [0 0 0 0 0 0]]\n"
     ]
    },
    {
     "data": {
      "text/plain": [
       "<matplotlib.image.AxesImage at 0x82d7931948>"
      ]
     },
     "execution_count": 16,
     "metadata": {},
     "output_type": "execute_result"
    },
    {
     "data": {
      "image/png": "[encoded data removed]",
      "text/plain": [
       "<Figure size 432x288 with 1 Axes>"
      ]
     },
     "metadata": {
      "needs_background": "light"
     },
     "output_type": "display_data"
    }
   ],
   "source": [
    "print(jeu_np(Z,10))\n",
    "plt.imshow(jeu_np(Z,10))"
   ]
  },
  {
   "cell_type": "markdown",
   "metadata": {},
   "source": [
    "On retrouve bien l'itération 10 obtenue lors de l'implémentation sans numpy."
   ]
  },
  {
   "cell_type": "markdown",
   "metadata": {},
   "source": [
    "Affichage du film qui représente les itérations du jeu de la vie pour la matrice Z_huge:"
   ]
  },
  {
   "cell_type": "code",
   "execution_count": 17,
   "metadata": {},
   "outputs": [],
   "source": [
    "Z_huge = np.zeros((100, 100))\n",
    "Z_np = np.array(\n",
    "[[0, 0, 0, 0, 0, 0],\n",
    "[0, 0, 0, 1, 0, 0],\n",
    "[0, 1, 0, 1, 0, 0],\n",
    "[0, 0, 1, 1, 0, 0],\n",
    "[0, 0, 0, 0, 0, 0],\n",
    "[0, 0, 0, 0, 0, 0]])\n",
    "Z_huge[10:16, 10:16] = Z_np"
   ]
  },
  {
   "cell_type": "markdown",
   "metadata": {},
   "source": [
    "Définition d'une fonction move_it qui permet d'afficher le film représentant les itérations du jeu  pour une initialisation par la matrice Z_huge:"
   ]
  },
  {
   "cell_type": "code",
   "execution_count": 18,
   "metadata": {},
   "outputs": [
    {
     "data": {
      "application/javascript": [
       "/* Put everything inside the global mpl namespace */\n",
       "window.mpl = {};\n",
       "\n",
       "\n",
       "mpl.get_websocket_type = function() {\n",
       "    if (typeof(WebSocket) !== 'undefined') {\n",
       "        return WebSocket;\n",
       "    } else if (typeof(MozWebSocket) !== 'undefined') {\n",
       "        return MozWebSocket;\n",
       "    } else {\n",
       "        alert('Your browser does not have WebSocket support. ' +\n",
       "              'Please try Chrome, Safari or Firefox ≥ 6. ' +\n",
       "              'Firefox 4 and 5 are also supported but you ' +\n",
       "              'have to enable WebSockets in about:config.');\n",
       "    };\n",
       "}\n",
       "\n",
       "mpl.figure = function(figure_id, websocket, ondownload, parent_element) {\n",
       "    this.id = figure_id;\n",
       "\n",
       "    this.ws = websocket;\n",
       "\n",
       "    this.supports_binary = (this.ws.binaryType != undefined);\n",
       "\n",
       "    if (!this.supports_binary) {\n",
       "        var warnings = document.getElementById(\"mpl-warnings\");\n",
       "        if (warnings) {\n",
       "            warnings.style.display = 'block';\n",
       "            warnings.textContent = (\n",
       "                \"This browser does not support binary websocket messages. \" +\n",
       "                    \"Performance may be slow.\");\n",
       "        }\n",
       "    }\n",
       "\n",
       "    this.imageObj = new Image();\n",
       "\n",
       "    this.context = undefined;\n",
       "    this.message = undefined;\n",
       "    this.canvas = undefined;\n",
       "    this.rubberband_canvas = undefined;\n",
       "    this.rubberband_context = undefined;\n",
       "    this.format_dropdown = undefined;\n",
       "\n",
       "    this.image_mode = 'full';\n",
       "\n",
       "    this.root = $('<div/>');\n",
       "    this._root_extra_style(this.root)\n",
       "    this.root.attr('style', 'display: inline-block');\n",
       "\n",
       "    $(parent_element).append(this.root);\n",
       "\n",
       "    this._init_header(this);\n",
       "    this._init_canvas(this);\n",
       "    this._init_toolbar(this);\n",
       "\n",
       "    var fig = this;\n",
       "\n",
       "    this.waiting = false;\n",
       "\n",
       "    this.ws.onopen =  function () {\n",
       "            fig.send_message(\"supports_binary\", {value: fig.supports_binary});\n",
       "            fig.send_message(\"send_image_mode\", {});\n",
       "            if (mpl.ratio != 1) {\n",
       "                fig.send_message(\"set_dpi_ratio\", {'dpi_ratio': mpl.ratio});\n",
       "            }\n",
       "            fig.send_message(\"refresh\", {});\n",
       "        }\n",
       "\n",
       "    this.imageObj.onload = function() {\n",
       "            if (fig.image_mode == 'full') {\n",
       "                // Full images could contain transparency (where diff images\n",
       "                // almost always do), so we need to clear the canvas so that\n",
       "                // there is no ghosting.\n",
       "                fig.context.clearRect(0, 0, fig.canvas.width, fig.canvas.height);\n",
       "            }\n",
       "            fig.context.drawImage(fig.imageObj, 0, 0);\n",
       "        };\n",
       "\n",
       "    this.imageObj.onunload = function() {\n",
       "        fig.ws.close();\n",
       "    }\n",
       "\n",
       "    this.ws.onmessage = this._make_on_message_function(this);\n",
       "\n",
       "    this.ondownload = ondownload;\n",
       "}\n",
       "\n",
       "mpl.figure.prototype._init_header = function() {\n",
       "    var titlebar = $(\n",
       "        '<div class=\"ui-dialog-titlebar ui-widget-header ui-corner-all ' +\n",
       "        'ui-helper-clearfix\"/>');\n",
       "    var titletext = $(\n",
       "        '<div class=\"ui-dialog-title\" style=\"width: 100%; ' +\n",
       "        'text-align: center; padding: 3px;\"/>');\n",
       "    titlebar.append(titletext)\n",
       "    this.root.append(titlebar);\n",
       "    this.header = titletext[0];\n",
       "}\n",
       "\n",
       "\n",
       "\n",
       "mpl.figure.prototype._canvas_extra_style = function(canvas_div) {\n",
       "\n",
       "}\n",
       "\n",
       "\n",
       "mpl.figure.prototype._root_extra_style = function(canvas_div) {\n",
       "\n",
       "}\n",
       "\n",
       "mpl.figure.prototype._init_canvas = function() {\n",
       "    var fig = this;\n",
       "\n",
       "    var canvas_div = $('<div/>');\n",
       "\n",
       "    canvas_div.attr('style', 'position: relative; clear: both; outline: 0');\n",
       "\n",
       "    function canvas_keyboard_event(event) {\n",
       "        return fig.key_event(event, event['data']);\n",
       "    }\n",
       "\n",
       "    canvas_div.keydown('key_press', canvas_keyboard_event);\n",
       "    canvas_div.keyup('key_release', canvas_keyboard_event);\n",
       "    this.canvas_div = canvas_div\n",
       "    this._canvas_extra_style(canvas_div)\n",
       "    this.root.append(canvas_div);\n",
       "\n",
       "    var canvas = $('<canvas/>');\n",
       "    canvas.addClass('mpl-canvas');\n",
       "    canvas.attr('style', \"left: 0; top: 0; z-index: 0; outline: 0\")\n",
       "\n",
       "    this.canvas = canvas[0];\n",
       "    this.context = canvas[0].getContext(\"2d\");\n",
       "\n",
       "    var backingStore = this.context.backingStorePixelRatio ||\n",
       "\tthis.context.webkitBackingStorePixelRatio ||\n",
       "\tthis.context.mozBackingStorePixelRatio ||\n",
       "\tthis.context.msBackingStorePixelRatio ||\n",
       "\tthis.context.oBackingStorePixelRatio ||\n",
       "\tthis.context.backingStorePixelRatio || 1;\n",
       "\n",
       "    mpl.ratio = (window.devicePixelRatio || 1) / backingStore;\n",
       "\n",
       "    var rubberband = $('<canvas/>');\n",
       "    rubberband.attr('style', \"position: absolute; left: 0; top: 0; z-index: 1;\")\n",
       "\n",
       "    var pass_mouse_events = true;\n",
       "\n",
       "    canvas_div.resizable({\n",
       "        start: function(event, ui) {\n",
       "            pass_mouse_events = false;\n",
       "        },\n",
       "        resize: function(event, ui) {\n",
       "            fig.request_resize(ui.size.width, ui.size.height);\n",
       "        },\n",
       "        stop: function(event, ui) {\n",
       "            pass_mouse_events = true;\n",
       "            fig.request_resize(ui.size.width, ui.size.height);\n",
       "        },\n",
       "    });\n",
       "\n",
       "    function mouse_event_fn(event) {\n",
       "        if (pass_mouse_events)\n",
       "            return fig.mouse_event(event, event['data']);\n",
       "    }\n",
       "\n",
       "    rubberband.mousedown('button_press', mouse_event_fn);\n",
       "    rubberband.mouseup('button_release', mouse_event_fn);\n",
       "    // Throttle sequential mouse events to 1 every 20ms.\n",
       "    rubberband.mousemove('motion_notify', mouse_event_fn);\n",
       "\n",
       "    rubberband.mouseenter('figure_enter', mouse_event_fn);\n",
       "    rubberband.mouseleave('figure_leave', mouse_event_fn);\n",
       "\n",
       "    canvas_div.on(\"wheel\", function (event) {\n",
       "        event = event.originalEvent;\n",
       "        event['data'] = 'scroll'\n",
       "        if (event.deltaY < 0) {\n",
       "            event.step = 1;\n",
       "        } else {\n",
       "            event.step = -1;\n",
       "        }\n",
       "        mouse_event_fn(event);\n",
       "    });\n",
       "\n",
       "    canvas_div.append(canvas);\n",
       "    canvas_div.append(rubberband);\n",
       "\n",
       "    this.rubberband = rubberband;\n",
       "    this.rubberband_canvas = rubberband[0];\n",
       "    this.rubberband_context = rubberband[0].getContext(\"2d\");\n",
       "    this.rubberband_context.strokeStyle = \"#000000\";\n",
       "\n",
       "    this._resize_canvas = function(width, height) {\n",
       "        // Keep the size of the canvas, canvas container, and rubber band\n",
       "        // canvas in synch.\n",
       "        canvas_div.css('width', width)\n",
       "        canvas_div.css('height', height)\n",
       "\n",
       "        canvas.attr('width', width * mpl.ratio);\n",
       "        canvas.attr('height', height * mpl.ratio);\n",
       "        canvas.attr('style', 'width: ' + width + 'px; height: ' + height + 'px;');\n",
       "\n",
       "        rubberband.attr('width', width);\n",
       "        rubberband.attr('height', height);\n",
       "    }\n",
       "\n",
       "    // Set the figure to an initial 600x600px, this will subsequently be updated\n",
       "    // upon first draw.\n",
       "    this._resize_canvas(600, 600);\n",
       "\n",
       "    // Disable right mouse context menu.\n",
       "    $(this.rubberband_canvas).bind(\"contextmenu\",function(e){\n",
       "        return false;\n",
       "    });\n",
       "\n",
       "    function set_focus () {\n",
       "        canvas.focus();\n",
       "        canvas_div.focus();\n",
       "    }\n",
       "\n",
       "    window.setTimeout(set_focus, 100);\n",
       "}\n",
       "\n",
       "mpl.figure.prototype._init_toolbar = function() {\n",
       "    var fig = this;\n",
       "\n",
       "    var nav_element = $('<div/>');\n",
       "    nav_element.attr('style', 'width: 100%');\n",
       "    this.root.append(nav_element);\n",
       "\n",
       "    // Define a callback function for later on.\n",
       "    function toolbar_event(event) {\n",
       "        return fig.toolbar_button_onclick(event['data']);\n",
       "    }\n",
       "    function toolbar_mouse_event(event) {\n",
       "        return fig.toolbar_button_onmouseover(event['data']);\n",
       "    }\n",
       "\n",
       "    for(var toolbar_ind in mpl.toolbar_items) {\n",
       "        var name = mpl.toolbar_items[toolbar_ind][0];\n",
       "        var tooltip = mpl.toolbar_items[toolbar_ind][1];\n",
       "        var image = mpl.toolbar_items[toolbar_ind][2];\n",
       "        var method_name = mpl.toolbar_items[toolbar_ind][3];\n",
       "\n",
       "        if (!name) {\n",
       "            // put a spacer in here.\n",
       "            continue;\n",
       "        }\n",
       "        var button = $('<button/>');\n",
       "        button.addClass('ui-button ui-widget ui-state-default ui-corner-all ' +\n",
       "                        'ui-button-icon-only');\n",
       "        button.attr('role', 'button');\n",
       "        button.attr('aria-disabled', 'false');\n",
       "        button.click(method_name, toolbar_event);\n",
       "        button.mouseover(tooltip, toolbar_mouse_event);\n",
       "\n",
       "        var icon_img = $('<span/>');\n",
       "        icon_img.addClass('ui-button-icon-primary ui-icon');\n",
       "        icon_img.addClass(image);\n",
       "        icon_img.addClass('ui-corner-all');\n",
       "\n",
       "        var tooltip_span = $('<span/>');\n",
       "        tooltip_span.addClass('ui-button-text');\n",
       "        tooltip_span.html(tooltip);\n",
       "\n",
       "        button.append(icon_img);\n",
       "        button.append(tooltip_span);\n",
       "\n",
       "        nav_element.append(button);\n",
       "    }\n",
       "\n",
       "    var fmt_picker_span = $('<span/>');\n",
       "\n",
       "    var fmt_picker = $('<select/>');\n",
       "    fmt_picker.addClass('mpl-toolbar-option ui-widget ui-widget-content');\n",
       "    fmt_picker_span.append(fmt_picker);\n",
       "    nav_element.append(fmt_picker_span);\n",
       "    this.format_dropdown = fmt_picker[0];\n",
       "\n",
       "    for (var ind in mpl.extensions) {\n",
       "        var fmt = mpl.extensions[ind];\n",
       "        var option = $(\n",
       "            '<option/>', {selected: fmt === mpl.default_extension}).html(fmt);\n",
       "        fmt_picker.append(option);\n",
       "    }\n",
       "\n",
       "    // Add hover states to the ui-buttons\n",
       "    $( \".ui-button\" ).hover(\n",
       "        function() { $(this).addClass(\"ui-state-hover\");},\n",
       "        function() { $(this).removeClass(\"ui-state-hover\");}\n",
       "    );\n",
       "\n",
       "    var status_bar = $('<span class=\"mpl-message\"/>');\n",
       "    nav_element.append(status_bar);\n",
       "    this.message = status_bar[0];\n",
       "}\n",
       "\n",
       "mpl.figure.prototype.request_resize = function(x_pixels, y_pixels) {\n",
       "    // Request matplotlib to resize the figure. Matplotlib will then trigger a resize in the client,\n",
       "    // which will in turn request a refresh of the image.\n",
       "    this.send_message('resize', {'width': x_pixels, 'height': y_pixels});\n",
       "}\n",
       "\n",
       "mpl.figure.prototype.send_message = function(type, properties) {\n",
       "    properties['type'] = type;\n",
       "    properties['figure_id'] = this.id;\n",
       "    this.ws.send(JSON.stringify(properties));\n",
       "}\n",
       "\n",
       "mpl.figure.prototype.send_draw_message = function() {\n",
       "    if (!this.waiting) {\n",
       "        this.waiting = true;\n",
       "        this.ws.send(JSON.stringify({type: \"draw\", figure_id: this.id}));\n",
       "    }\n",
       "}\n",
       "\n",
       "\n",
       "mpl.figure.prototype.handle_save = function(fig, msg) {\n",
       "    var format_dropdown = fig.format_dropdown;\n",
       "    var format = format_dropdown.options[format_dropdown.selectedIndex].value;\n",
       "    fig.ondownload(fig, format);\n",
       "}\n",
       "\n",
       "\n",
       "mpl.figure.prototype.handle_resize = function(fig, msg) {\n",
       "    var size = msg['size'];\n",
       "    if (size[0] != fig.canvas.width || size[1] != fig.canvas.height) {\n",
       "        fig._resize_canvas(size[0], size[1]);\n",
       "        fig.send_message(\"refresh\", {});\n",
       "    };\n",
       "}\n",
       "\n",
       "mpl.figure.prototype.handle_rubberband = function(fig, msg) {\n",
       "    var x0 = msg['x0'] / mpl.ratio;\n",
       "    var y0 = (fig.canvas.height - msg['y0']) / mpl.ratio;\n",
       "    var x1 = msg['x1'] / mpl.ratio;\n",
       "    var y1 = (fig.canvas.height - msg['y1']) / mpl.ratio;\n",
       "    x0 = Math.floor(x0) + 0.5;\n",
       "    y0 = Math.floor(y0) + 0.5;\n",
       "    x1 = Math.floor(x1) + 0.5;\n",
       "    y1 = Math.floor(y1) + 0.5;\n",
       "    var min_x = Math.min(x0, x1);\n",
       "    var min_y = Math.min(y0, y1);\n",
       "    var width = Math.abs(x1 - x0);\n",
       "    var height = Math.abs(y1 - y0);\n",
       "\n",
       "    fig.rubberband_context.clearRect(\n",
       "        0, 0, fig.canvas.width / mpl.ratio, fig.canvas.height / mpl.ratio);\n",
       "\n",
       "    fig.rubberband_context.strokeRect(min_x, min_y, width, height);\n",
       "}\n",
       "\n",
       "mpl.figure.prototype.handle_figure_label = function(fig, msg) {\n",
       "    // Updates the figure title.\n",
       "    fig.header.textContent = msg['label'];\n",
       "}\n",
       "\n",
       "mpl.figure.prototype.handle_cursor = function(fig, msg) {\n",
       "    var cursor = msg['cursor'];\n",
       "    switch(cursor)\n",
       "    {\n",
       "    case 0:\n",
       "        cursor = 'pointer';\n",
       "        break;\n",
       "    case 1:\n",
       "        cursor = 'default';\n",
       "        break;\n",
       "    case 2:\n",
       "        cursor = 'crosshair';\n",
       "        break;\n",
       "    case 3:\n",
       "        cursor = 'move';\n",
       "        break;\n",
       "    }\n",
       "    fig.rubberband_canvas.style.cursor = cursor;\n",
       "}\n",
       "\n",
       "mpl.figure.prototype.handle_message = function(fig, msg) {\n",
       "    fig.message.textContent = msg['message'];\n",
       "}\n",
       "\n",
       "mpl.figure.prototype.handle_draw = function(fig, msg) {\n",
       "    // Request the server to send over a new figure.\n",
       "    fig.send_draw_message();\n",
       "}\n",
       "\n",
       "mpl.figure.prototype.handle_image_mode = function(fig, msg) {\n",
       "    fig.image_mode = msg['mode'];\n",
       "}\n",
       "\n",
       "mpl.figure.prototype.updated_canvas_event = function() {\n",
       "    // Called whenever the canvas gets updated.\n",
       "    this.send_message(\"ack\", {});\n",
       "}\n",
       "\n",
       "// A function to construct a web socket function for onmessage handling.\n",
       "// Called in the figure constructor.\n",
       "mpl.figure.prototype._make_on_message_function = function(fig) {\n",
       "    return function socket_on_message(evt) {\n",
       "        if (evt.data instanceof Blob) {\n",
       "            /* FIXME: We get \"Resource interpreted as Image but\n",
       "             * transferred with MIME type text/plain:\" errors on\n",
       "             * Chrome.  But how to set the MIME type?  It doesn't seem\n",
       "             * to be part of the websocket stream */\n",
       "            evt.data.type = \"image/png\";\n",
       "\n",
       "            /* Free the memory for the previous frames */\n",
       "            if (fig.imageObj.src) {\n",
       "                (window.URL || window.webkitURL).revokeObjectURL(\n",
       "                    fig.imageObj.src);\n",
       "            }\n",
       "\n",
       "            fig.imageObj.src = (window.URL || window.webkitURL).createObjectURL(\n",
       "                evt.data);\n",
       "            fig.updated_canvas_event();\n",
       "            fig.waiting = false;\n",
       "            return;\n",
       "        }\n",
       "        else if (typeof evt.data === 'string' && evt.data.slice(0, 21) == \"data:image/png;base64\") {\n",
       "            fig.imageObj.src = evt.data;\n",
       "            fig.updated_canvas_event();\n",
       "            fig.waiting = false;\n",
       "            return;\n",
       "        }\n",
       "\n",
       "        var msg = JSON.parse(evt.data);\n",
       "        var msg_type = msg['type'];\n",
       "\n",
       "        // Call the  \"handle_{type}\" callback, which takes\n",
       "        // the figure and JSON message as its only arguments.\n",
       "        try {\n",
       "            var callback = fig[\"handle_\" + msg_type];\n",
       "        } catch (e) {\n",
       "            console.log(\"No handler for the '\" + msg_type + \"' message type: \", msg);\n",
       "            return;\n",
       "        }\n",
       "\n",
       "        if (callback) {\n",
       "            try {\n",
       "                // console.log(\"Handling '\" + msg_type + \"' message: \", msg);\n",
       "                callback(fig, msg);\n",
       "            } catch (e) {\n",
       "                console.log(\"Exception inside the 'handler_\" + msg_type + \"' callback:\", e, e.stack, msg);\n",
       "            }\n",
       "        }\n",
       "    };\n",
       "}\n",
       "\n",
       "// from http://stackoverflow.com/questions/1114465/getting-mouse-location-in-canvas\n",
       "mpl.findpos = function(e) {\n",
       "    //this section is from http://www.quirksmode.org/js/events_properties.html\n",
       "    var targ;\n",
       "    if (!e)\n",
       "        e = window.event;\n",
       "    if (e.target)\n",
       "        targ = e.target;\n",
       "    else if (e.srcElement)\n",
       "        targ = e.srcElement;\n",
       "    if (targ.nodeType == 3) // defeat Safari bug\n",
       "        targ = targ.parentNode;\n",
       "\n",
       "    // jQuery normalizes the pageX and pageY\n",
       "    // pageX,Y are the mouse positions relative to the document\n",
       "    // offset() returns the position of the element relative to the document\n",
       "    var x = e.pageX - $(targ).offset().left;\n",
       "    var y = e.pageY - $(targ).offset().top;\n",
       "\n",
       "    return {\"x\": x, \"y\": y};\n",
       "};\n",
       "\n",
       "/*\n",
       " * return a copy of an object with only non-object keys\n",
       " * we need this to avoid circular references\n",
       " * http://stackoverflow.com/a/24161582/3208463\n",
       " */\n",
       "function simpleKeys (original) {\n",
       "  return Object.keys(original).reduce(function (obj, key) {\n",
       "    if (typeof original[key] !== 'object')\n",
       "        obj[key] = original[key]\n",
       "    return obj;\n",
       "  }, {});\n",
       "}\n",
       "\n",
       "mpl.figure.prototype.mouse_event = function(event, name) {\n",
       "    var canvas_pos = mpl.findpos(event)\n",
       "\n",
       "    if (name === 'button_press')\n",
       "    {\n",
       "        this.canvas.focus();\n",
       "        this.canvas_div.focus();\n",
       "    }\n",
       "\n",
       "    var x = canvas_pos.x * mpl.ratio;\n",
       "    var y = canvas_pos.y * mpl.ratio;\n",
       "\n",
       "    this.send_message(name, {x: x, y: y, button: event.button,\n",
       "                             step: event.step,\n",
       "                             guiEvent: simpleKeys(event)});\n",
       "\n",
       "    /* This prevents the web browser from automatically changing to\n",
       "     * the text insertion cursor when the button is pressed.  We want\n",
       "     * to control all of the cursor setting manually through the\n",
       "     * 'cursor' event from matplotlib */\n",
       "    event.preventDefault();\n",
       "    return false;\n",
       "}\n",
       "\n",
       "mpl.figure.prototype._key_event_extra = function(event, name) {\n",
       "    // Handle any extra behaviour associated with a key event\n",
       "}\n",
       "\n",
       "mpl.figure.prototype.key_event = function(event, name) {\n",
       "\n",
       "    // Prevent repeat events\n",
       "    if (name == 'key_press')\n",
       "    {\n",
       "        if (event.which === this._key)\n",
       "            return;\n",
       "        else\n",
       "            this._key = event.which;\n",
       "    }\n",
       "    if (name == 'key_release')\n",
       "        this._key = null;\n",
       "\n",
       "    var value = '';\n",
       "    if (event.ctrlKey && event.which != 17)\n",
       "        value += \"ctrl+\";\n",
       "    if (event.altKey && event.which != 18)\n",
       "        value += \"alt+\";\n",
       "    if (event.shiftKey && event.which != 16)\n",
       "        value += \"shift+\";\n",
       "\n",
       "    value += 'k';\n",
       "    value += event.which.toString();\n",
       "\n",
       "    this._key_event_extra(event, name);\n",
       "\n",
       "    this.send_message(name, {key: value,\n",
       "                             guiEvent: simpleKeys(event)});\n",
       "    return false;\n",
       "}\n",
       "\n",
       "mpl.figure.prototype.toolbar_button_onclick = function(name) {\n",
       "    if (name == 'download') {\n",
       "        this.handle_save(this, null);\n",
       "    } else {\n",
       "        this.send_message(\"toolbar_button\", {name: name});\n",
       "    }\n",
       "};\n",
       "\n",
       "mpl.figure.prototype.toolbar_button_onmouseover = function(tooltip) {\n",
       "    this.message.textContent = tooltip;\n",
       "};\n",
       "mpl.toolbar_items = [[\"Home\", \"Reset original view\", \"fa fa-home icon-home\", \"home\"], [\"Back\", \"Back to previous view\", \"fa fa-arrow-left icon-arrow-left\", \"back\"], [\"Forward\", \"Forward to next view\", \"fa fa-arrow-right icon-arrow-right\", \"forward\"], [\"\", \"\", \"\", \"\"], [\"Pan\", \"Pan axes with left mouse, zoom with right\", \"fa fa-arrows icon-move\", \"pan\"], [\"Zoom\", \"Zoom to rectangle\", \"fa fa-square-o icon-check-empty\", \"zoom\"], [\"\", \"\", \"\", \"\"], [\"Download\", \"Download plot\", \"fa fa-floppy-o icon-save\", \"download\"]];\n",
       "\n",
       "mpl.extensions = [\"eps\", \"jpeg\", \"pdf\", \"png\", \"ps\", \"raw\", \"svg\", \"tif\"];\n",
       "\n",
       "mpl.default_extension = \"png\";var comm_websocket_adapter = function(comm) {\n",
       "    // Create a \"websocket\"-like object which calls the given IPython comm\n",
       "    // object with the appropriate methods. Currently this is a non binary\n",
       "    // socket, so there is still some room for performance tuning.\n",
       "    var ws = {};\n",
       "\n",
       "    ws.close = function() {\n",
       "        comm.close()\n",
       "    };\n",
       "    ws.send = function(m) {\n",
       "        //console.log('sending', m);\n",
       "        comm.send(m);\n",
       "    };\n",
       "    // Register the callback with on_msg.\n",
       "    comm.on_msg(function(msg) {\n",
       "        //console.log('receiving', msg['content']['data'], msg);\n",
       "        // Pass the mpl event to the overridden (by mpl) onmessage function.\n",
       "        ws.onmessage(msg['content']['data'])\n",
       "    });\n",
       "    return ws;\n",
       "}\n",
       "\n",
       "mpl.mpl_figure_comm = function(comm, msg) {\n",
       "    // This is the function which gets called when the mpl process\n",
       "    // starts-up an IPython Comm through the \"matplotlib\" channel.\n",
       "\n",
       "    var id = msg.content.data.id;\n",
       "    // Get hold of the div created by the display call when the Comm\n",
       "    // socket was opened in Python.\n",
       "    var element = $(\"#\" + id);\n",
       "    var ws_proxy = comm_websocket_adapter(comm)\n",
       "\n",
       "    function ondownload(figure, format) {\n",
       "        window.open(figure.imageObj.src);\n",
       "    }\n",
       "\n",
       "    var fig = new mpl.figure(id, ws_proxy,\n",
       "                           ondownload,\n",
       "                           element.get(0));\n",
       "\n",
       "    // Call onopen now - mpl needs it, as it is assuming we've passed it a real\n",
       "    // web socket which is closed, not our websocket->open comm proxy.\n",
       "    ws_proxy.onopen();\n",
       "\n",
       "    fig.parent_element = element.get(0);\n",
       "    fig.cell_info = mpl.find_output_cell(\"<div id='\" + id + \"'></div>\");\n",
       "    if (!fig.cell_info) {\n",
       "        console.error(\"Failed to find cell for figure\", id, fig);\n",
       "        return;\n",
       "    }\n",
       "\n",
       "    var output_index = fig.cell_info[2]\n",
       "    var cell = fig.cell_info[0];\n",
       "\n",
       "};\n",
       "\n",
       "mpl.figure.prototype.handle_close = function(fig, msg) {\n",
       "    var width = fig.canvas.width/mpl.ratio\n",
       "    fig.root.unbind('remove')\n",
       "\n",
       "    // Update the output cell to use the data from the current canvas.\n",
       "    fig.push_to_output();\n",
       "    var dataURL = fig.canvas.toDataURL();\n",
       "    // Re-enable the keyboard manager in IPython - without this line, in FF,\n",
       "    // the notebook keyboard shortcuts fail.\n",
       "    IPython.keyboard_manager.enable()\n",
       "    $(fig.parent_element).html('<img src=\"' + dataURL + '\" width=\"' + width + '\">');\n",
       "    fig.close_ws(fig, msg);\n",
       "}\n",
       "\n",
       "mpl.figure.prototype.close_ws = function(fig, msg){\n",
       "    fig.send_message('closing', msg);\n",
       "    // fig.ws.close()\n",
       "}\n",
       "\n",
       "mpl.figure.prototype.push_to_output = function(remove_interactive) {\n",
       "    // Turn the data on the canvas into data in the output cell.\n",
       "    var width = this.canvas.width/mpl.ratio\n",
       "    var dataURL = this.canvas.toDataURL();\n",
       "    this.cell_info[1]['text/html'] = '<img src=\"' + dataURL + '\" width=\"' + width + '\">';\n",
       "}\n",
       "\n",
       "mpl.figure.prototype.updated_canvas_event = function() {\n",
       "    // Tell IPython that the notebook contents must change.\n",
       "    IPython.notebook.set_dirty(true);\n",
       "    this.send_message(\"ack\", {});\n",
       "    var fig = this;\n",
       "    // Wait a second, then push the new image to the DOM so\n",
       "    // that it is saved nicely (might be nice to debounce this).\n",
       "    setTimeout(function () { fig.push_to_output() }, 1000);\n",
       "}\n",
       "\n",
       "mpl.figure.prototype._init_toolbar = function() {\n",
       "    var fig = this;\n",
       "\n",
       "    var nav_element = $('<div/>');\n",
       "    nav_element.attr('style', 'width: 100%');\n",
       "    this.root.append(nav_element);\n",
       "\n",
       "    // Define a callback function for later on.\n",
       "    function toolbar_event(event) {\n",
       "        return fig.toolbar_button_onclick(event['data']);\n",
       "    }\n",
       "    function toolbar_mouse_event(event) {\n",
       "        return fig.toolbar_button_onmouseover(event['data']);\n",
       "    }\n",
       "\n",
       "    for(var toolbar_ind in mpl.toolbar_items){\n",
       "        var name = mpl.toolbar_items[toolbar_ind][0];\n",
       "        var tooltip = mpl.toolbar_items[toolbar_ind][1];\n",
       "        var image = mpl.toolbar_items[toolbar_ind][2];\n",
       "        var method_name = mpl.toolbar_items[toolbar_ind][3];\n",
       "\n",
       "        if (!name) { continue; };\n",
       "\n",
       "        var button = $('<button class=\"btn btn-default\" href=\"#\" title=\"' + name + '\"><i class=\"fa ' + image + ' fa-lg\"></i></button>');\n",
       "        button.click(method_name, toolbar_event);\n",
       "        button.mouseover(tooltip, toolbar_mouse_event);\n",
       "        nav_element.append(button);\n",
       "    }\n",
       "\n",
       "    // Add the status bar.\n",
       "    var status_bar = $('<span class=\"mpl-message\" style=\"text-align:right; float: right;\"/>');\n",
       "    nav_element.append(status_bar);\n",
       "    this.message = status_bar[0];\n",
       "\n",
       "    // Add the close button to the window.\n",
       "    var buttongrp = $('<div class=\"btn-group inline pull-right\"></div>');\n",
       "    var button = $('<button class=\"btn btn-mini btn-primary\" href=\"#\" title=\"Stop Interaction\"><i class=\"fa fa-power-off icon-remove icon-large\"></i></button>');\n",
       "    button.click(function (evt) { fig.handle_close(fig, {}); } );\n",
       "    button.mouseover('Stop Interaction', toolbar_mouse_event);\n",
       "    buttongrp.append(button);\n",
       "    var titlebar = this.root.find($('.ui-dialog-titlebar'));\n",
       "    titlebar.prepend(buttongrp);\n",
       "}\n",
       "\n",
       "mpl.figure.prototype._root_extra_style = function(el){\n",
       "    var fig = this\n",
       "    el.on(\"remove\", function(){\n",
       "\tfig.close_ws(fig, {});\n",
       "    });\n",
       "}\n",
       "\n",
       "mpl.figure.prototype._canvas_extra_style = function(el){\n",
       "    // this is important to make the div 'focusable\n",
       "    el.attr('tabindex', 0)\n",
       "    // reach out to IPython and tell the keyboard manager to turn it's self\n",
       "    // off when our div gets focus\n",
       "\n",
       "    // location in version 3\n",
       "    if (IPython.notebook.keyboard_manager) {\n",
       "        IPython.notebook.keyboard_manager.register_events(el);\n",
       "    }\n",
       "    else {\n",
       "        // location in version 2\n",
       "        IPython.keyboard_manager.register_events(el);\n",
       "    }\n",
       "\n",
       "}\n",
       "\n",
       "mpl.figure.prototype._key_event_extra = function(event, name) {\n",
       "    var manager = IPython.notebook.keyboard_manager;\n",
       "    if (!manager)\n",
       "        manager = IPython.keyboard_manager;\n",
       "\n",
       "    // Check for shift+enter\n",
       "    if (event.shiftKey && event.which == 13) {\n",
       "        this.canvas_div.blur();\n",
       "        event.shiftKey = false;\n",
       "        // Send a \"J\" for go to next cell\n",
       "        event.which = 74;\n",
       "        event.keyCode = 74;\n",
       "        manager.command_mode();\n",
       "        manager.handle_keydown(event);\n",
       "    }\n",
       "}\n",
       "\n",
       "mpl.figure.prototype.handle_save = function(fig, msg) {\n",
       "    fig.ondownload(fig, null);\n",
       "}\n",
       "\n",
       "\n",
       "mpl.find_output_cell = function(html_output) {\n",
       "    // Return the cell and output element which can be found *uniquely* in the notebook.\n",
       "    // Note - this is a bit hacky, but it is done because the \"notebook_saving.Notebook\"\n",
       "    // IPython event is triggered only after the cells have been serialised, which for\n",
       "    // our purposes (turning an active figure into a static one), is too late.\n",
       "    var cells = IPython.notebook.get_cells();\n",
       "    var ncells = cells.length;\n",
       "    for (var i=0; i<ncells; i++) {\n",
       "        var cell = cells[i];\n",
       "        if (cell.cell_type === 'code'){\n",
       "            for (var j=0; j<cell.output_area.outputs.length; j++) {\n",
       "                var data = cell.output_area.outputs[j];\n",
       "                if (data.data) {\n",
       "                    // IPython >= 3 moved mimebundle to data attribute of output\n",
       "                    data = data.data;\n",
       "                }\n",
       "                if (data['text/html'] == html_output) {\n",
       "                    return [cell, data, j];\n",
       "                }\n",
       "            }\n",
       "        }\n",
       "    }\n",
       "}\n",
       "\n",
       "// Register the function which deals with the matplotlib target/channel.\n",
       "// The kernel may be null if the page has been refreshed.\n",
       "if (IPython.notebook.kernel != null) {\n",
       "    IPython.notebook.kernel.comm_manager.register_target('matplotlib', mpl.mpl_figure_comm);\n",
       "}\n"
      ],
      "text/plain": [
       "<IPython.core.display.Javascript object>"
      ]
     },
     "metadata": {},
     "output_type": "display_data"
    },
    {
     "data": {
      "text/html": [
       "<img src=\"data:image/png;base64,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\" width=\"640\">"
      ],
      "text/plain": [
       "<IPython.core.display.HTML object>"
      ]
     },
     "metadata": {},
     "output_type": "display_data"
    }
   ],
   "source": [
    "%matplotlib notebook\n",
    "from matplotlib.animation import FuncAnimation\n",
    "fig, ax = plt.subplots()\n",
    "\n",
    "def move_it(Z,nb_iter):\n",
    "    Z=np.array(Z)\n",
    "    for i in range(nb_iter):\n",
    "        Z=jeu_np(Z,i)\n",
    "        return (Z)\n",
    "\n",
    "film = FuncAnimation(fig, move_it(Z_np,10), frames=50, blit=True)\n",
    "plt.show()"
   ]
  }
 ],
 "metadata": {
  "kernelspec": {
   "display_name": "Python 3",
   "language": "python",
   "name": "python3"
  },
  "language_info": {
   "codemirror_mode": {
    "name": "ipython",
    "version": 3
   },
   "file_extension": ".py",
   "mimetype": "text/x-python",
   "name": "python",
   "nbconvert_exporter": "python",
   "pygments_lexer": "ipython3",
   "version": "3.7.4"
  }
 },
 "nbformat": 4,
 "nbformat_minor": 2
}
